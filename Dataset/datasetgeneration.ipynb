{
 "cells": [
  {
   "cell_type": "code",
   "execution_count": 2,
   "id": "1c8331df-8ed9-4319-8ed6-0b2686ccec7f",
   "metadata": {
    "tags": []
   },
   "outputs": [
    {
     "name": "stdout",
     "output_type": "stream",
     "text": [
      "Collecting faker\n",
      "  Downloading Faker-32.1.0-py3-none-any.whl.metadata (15 kB)\n",
      "Requirement already satisfied: python-dateutil>=2.4 in /opt/conda/lib/python3.10/site-packages (from faker) (2.9.0.post0)\n",
      "Requirement already satisfied: typing-extensions in /opt/conda/lib/python3.10/site-packages (from faker) (4.12.2)\n",
      "Requirement already satisfied: six>=1.5 in /opt/conda/lib/python3.10/site-packages (from python-dateutil>=2.4->faker) (1.16.0)\n",
      "Downloading Faker-32.1.0-py3-none-any.whl (1.9 MB)\n",
      "\u001b[2K   \u001b[90m━━━━━━━━━━━━━━━━━━━━━━━━━━━━━━━━━━━━━━━━\u001b[0m \u001b[32m1.9/1.9 MB\u001b[0m \u001b[31m38.2 MB/s\u001b[0m eta \u001b[36m0:00:00\u001b[0m\n",
      "\u001b[?25hInstalling collected packages: faker\n",
      "Successfully installed faker-32.1.0\n"
     ]
    }
   ],
   "source": [
    "!pip install faker\n"
   ]
  },
  {
   "cell_type": "code",
   "execution_count": 10,
   "id": "71832d10-3571-42dd-9da5-5bbfc47111e3",
   "metadata": {
    "tags": []
   },
   "outputs": [
    {
     "name": "stdout",
     "output_type": "stream",
     "text": [
      "Customer profiles saved to customer_profiles.csv\n",
      "Booking data saved to airline_bookings_data.csv\n"
     ]
    }
   ],
   "source": [
    "import pandas as pd\n",
    "import random\n",
    "from faker import Faker\n",
    "\n",
    "# Initialize Faker for realistic data generation\n",
    "faker = Faker()\n",
    "\n",
    "# Define constants for the dataset\n",
    "NUM_ROWS = 5000  # Total bookings\n",
    "NUM_CUSTOMERS = 1000  # Total unique customers\n",
    "AGE_GROUPS = [\"18-24\", \"25-34\", \"35-44\", \"45-54\", \"55-64\", \"65+\"]\n",
    "GENDERS = [\"Male\", \"Female\"]\n",
    "STATES = [\"California\", \"Texas\", \"Florida\", \"New York\", \"Georgia\", \"Illinois\", \"Arizona\", \"Oregon\"]\n",
    "CITIES = {\n",
    "    \"California\": [\"Los Angeles\", \"San Francisco\", \"San Diego\", \"San Jose\"],\n",
    "    \"Texas\": [\"Houston\", \"Dallas\", \"Austin\", \"San Antonio\"],\n",
    "    \"Florida\": [\"Miami\", \"Orlando\", \"Tampa\", \"Jacksonville\"],\n",
    "    \"New York\": [\"New York City\", \"Buffalo\", \"Rochester\", \"Albany\"],\n",
    "    \"Georgia\": [\"Atlanta\", \"Savannah\", \"Augusta\", \"Columbus\"],\n",
    "    \"Illinois\": [\"Chicago\", \"Aurora\", \"Naperville\", \"Springfield\"],\n",
    "    \"Arizona\": [\"Phoenix\", \"Tucson\", \"Scottsdale\", \"Flagstaff\"],\n",
    "    \"Oregon\": [\"Portland\", \"Salem\", \"Eugene\", \"Bend\"]\n",
    "}\n",
    "DOMESTIC_DESTINATIONS = [\"Atlanta, GA\", \"Miami, FL\", \"Seattle, WA\", \"Chicago, IL\", \"Las Vegas, NV\"]\n",
    "AIRLINE_DESTINATION_MAPPING = {\n",
    "    \"Delta Airlines\": [\n",
    "        \"London, UK\", \"Paris, France\", \"Toronto, Canada\", \"Tokyo, Japan\", \"Amsterdam, Netherlands\"\n",
    "    ] + DOMESTIC_DESTINATIONS,\n",
    "    \"American Airlines\": [\n",
    "        \"London, UK\", \"Paris, France\", \"Toronto, Canada\", \"Tokyo, Japan\", \"Mexico City, Mexico\"\n",
    "    ] + DOMESTIC_DESTINATIONS,\n",
    "    \"United Airlines\": [\n",
    "        \"London, UK\", \"Paris, France\", \"Toronto, Canada\", \"Tokyo, Japan\", \"Frankfurt, Germany\"\n",
    "    ] + DOMESTIC_DESTINATIONS,\n",
    "    \"Southwest Airlines\": [\n",
    "        \"Montego Bay, Jamaica\", \"Nassau, Bahamas\", \"Grand Cayman, Cayman Islands\", \n",
    "        \"San Juan, Puerto Rico\", \"Cancun, Mexico\", \"Cozumel, Mexico\", \n",
    "        \"Belize City, Belize\", \"Liberia, Costa Rica\", \"Havana, Cuba\"\n",
    "    ] + DOMESTIC_DESTINATIONS,\n",
    "    \"Alaska Airlines\": [\n",
    "        \"Toronto, Canada\", \"Vancouver, Canada\"\n",
    "    ] + DOMESTIC_DESTINATIONS\n",
    "}\n",
    "CLASSES = [\"Economy\", \"Premium Economy\", \"Business\", \"First\"]\n",
    "BOOKING_CHANNELS = [\"Website\", \"Mobile App\", \"Travel Agency\"]\n",
    "PRICE_RANGES = {\n",
    "    \"Domestic\": {\n",
    "        \"Economy\": (100, 300),\n",
    "        \"Premium Economy\": (250, 500),\n",
    "        \"Business\": (400, 800),\n",
    "        \"First\": (700, 1500)\n",
    "    },\n",
    "    \"International\": {\n",
    "        \"Economy\": (400, 800),\n",
    "        \"Premium Economy\": (700, 1200),\n",
    "        \"Business\": (1000, 2500),\n",
    "        \"First\": (2000, 5000)\n",
    "    }\n",
    "}\n",
    "\n",
    "# Generate Customer Profiles\n",
    "customer_profiles = []\n",
    "for i in range(NUM_CUSTOMERS):\n",
    "    state = random.choice(STATES)  # Assign consistent state for customer\n",
    "    city = random.choice(CITIES[state])  # Assign consistent city within the state\n",
    "    frequent_flyer = random.choice([\"Yes\", \"No\"])  # Assign consistent frequent flyer status\n",
    "    customer_profiles.append({\n",
    "        \"CustomerID\": f\"C{i+1:05d}\",\n",
    "        \"AgeGroup\": random.choice(AGE_GROUPS),\n",
    "        \"Gender\": random.choice(GENDERS),\n",
    "        \"State\": state,\n",
    "        \"City\": city,\n",
    "        \"FrequentFlyer\": frequent_flyer  # Add frequent flyer status to profile\n",
    "    })\n",
    "\n",
    "# Convert customer profiles to DataFrame for lookup\n",
    "customer_df = pd.DataFrame(customer_profiles)\n",
    "\n",
    "# Helper function to generate ticket price based on class and flight type\n",
    "def generate_ticket_price(flight_type, travel_class):\n",
    "    return round(random.uniform(*PRICE_RANGES[flight_type][travel_class]), 2)\n",
    "\n",
    "# Generate Bookings\n",
    "bookings = []\n",
    "for i in range(NUM_ROWS):\n",
    "    customer = random.choice(customer_profiles)  # Select a customer profile\n",
    "    travel_class = random.choice(CLASSES)\n",
    "    airline = random.choice(list(AIRLINE_DESTINATION_MAPPING.keys()))  # Select an airline\n",
    "    destination = random.choice(AIRLINE_DESTINATION_MAPPING[airline])  # Choose valid destination for airline\n",
    "    flight_type = \"Domestic\" if destination in DOMESTIC_DESTINATIONS else \"International\"  # Logical FlightType\n",
    "    ticket_price = generate_ticket_price(flight_type, travel_class)  # Price based on flight type and class\n",
    "    bookings.append({\n",
    "        \"BookingID\": f\"A{i+1:05d}\",  # Unique BookingID\n",
    "        \"CustomerID\": customer[\"CustomerID\"],  # Reuse consistent CustomerID\n",
    "        \"AgeGroup\": customer[\"AgeGroup\"],  # Consistent AgeGroup\n",
    "        \"Gender\": customer[\"Gender\"],  # Consistent Gender\n",
    "        \"State\": customer[\"State\"],  # Consistent State\n",
    "        \"City\": customer[\"City\"],  # Consistent City\n",
    "        \"Airline\": airline,\n",
    "        \"Destination\": destination,\n",
    "        \"BookingDate\": faker.date_between(start_date=\"-6M\", end_date=\"today\").strftime(\"%Y-%m-%d\"),\n",
    "        \"FlightType\": flight_type,  # Correctly determined FlightType\n",
    "        \"TicketPrice\": ticket_price,\n",
    "        \"Class\": travel_class,\n",
    "        \"BookingChannel\": random.choice(BOOKING_CHANNELS),\n",
    "        \"FrequentFlyer\": customer[\"FrequentFlyer\"],  # Consistent FrequentFlyer status\n",
    "        \"AffinityIndex\": random.randint(100, 200)\n",
    "    })\n",
    "\n",
    "# Convert bookings to DataFrame\n",
    "bookings_df = pd.DataFrame(bookings)\n",
    "\n",
    "# Save both datasets to CSV files\n",
    "customer_profiles_file = \"customer_profiles.csv\"\n",
    "bookings_file = \"airline_bookings_data.csv\"\n",
    "\n",
    "customer_df.to_csv(customer_profiles_file, index=False)\n",
    "bookings_df.to_csv(bookings_file, index=False)\n",
    "\n",
    "print(f\"Customer profiles saved to {customer_profiles_file}\")\n",
    "print(f\"Booking data saved to {bookings_file}\")\n"
   ]
  },
  {
   "cell_type": "code",
   "execution_count": null,
   "id": "043a4f72-f97f-4185-a49a-7bfeed014e21",
   "metadata": {},
   "outputs": [],
   "source": []
  }
 ],
 "metadata": {
  "environment": {
   "kernel": "conda-base-py",
   "name": "workbench-notebooks.m125",
   "type": "gcloud",
   "uri": "us-docker.pkg.dev/deeplearning-platform-release/gcr.io/workbench-notebooks:m125"
  },
  "kernelspec": {
   "display_name": "Python 3 (ipykernel) (Local)",
   "language": "python",
   "name": "conda-base-py"
  },
  "language_info": {
   "codemirror_mode": {
    "name": "ipython",
    "version": 3
   },
   "file_extension": ".py",
   "mimetype": "text/x-python",
   "name": "python",
   "nbconvert_exporter": "python",
   "pygments_lexer": "ipython3",
   "version": "3.10.15"
  }
 },
 "nbformat": 4,
 "nbformat_minor": 5
}
